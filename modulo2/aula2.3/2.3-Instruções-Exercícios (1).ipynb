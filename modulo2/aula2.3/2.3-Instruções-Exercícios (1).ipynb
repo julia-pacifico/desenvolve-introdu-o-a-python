{
 "cells": [
  {
   "cell_type": "markdown",
   "metadata": {
    "id": "1pCTdOHonv5f"
   },
   "source": [
    "# Módulo 2\n",
    "\n",
    "## 2.3 Instruções e Expressões\n",
    "\n",
    "### Q1\n",
    "\n",
    "Faça um programa que armazene o valor de 20 reais de salário por hora de um trabalhador, e o número de 40 horas trabalhadas na semana. Com essas informações, calcule e imprima:\n",
    "- Salário semanal bruto\n",
    "- Valor descontado por semana INSS (10% do bruto)\n",
    "- Valor descontado por semana pelo sindicato (5% do bruto)\n",
    "- Salário semanal líquido (Bruto - Descontos)"
   ]
  },
  {
   "cell_type": "code",
   "execution_count": null,
   "metadata": {
    "id": "hVbX0I97nj6M"
   },
   "outputs": [],
   "source": [
    "## Escreva e execute seu código aqui\n",
    "# Definição das variáveis\n",
    "salario_por_hora = 20.00  # Valor do salário por hora em reais\n",
    "horas_trabalhadas_semana = 40  # Número de horas trabalhadas na semana\n",
    "\n",
    "# Cálculo do salário semanal bruto\n",
    "salario_bruto_semanal = salario_por_hora * horas_trabalhadas_semana\n",
    "\n",
    "# Cálculo dos descontos\n",
    "desconto_inss = salario_bruto_semanal * 0.10  # 10% de desconto do INSS\n",
    "desconto_sindicato = salario_bruto_semanal * 0.05  # 5% de desconto do sindicato\n",
    "\n",
    "# Cálculo do salário semanal líquido\n",
    "salario_liquido_semanal = salario_bruto_semanal - desconto_inss - desconto_sindicato\n",
    "\n",
    "# Impressão dos resultados\n",
    "print(\"Salário semanal bruto: R$\", salario_bruto_semanal)\n",
    "print(\"Desconto do INSS: R$\", desconto_inss)\n",
    "print(\"Desconto do sindicato: R$\", desconto_sindicato)\n",
    "print(\"Salário semanal líquido: R$\", salario_liquido_semanal)"
   ]
  },
  {
   "cell_type": "markdown",
   "metadata": {
    "id": "pIxKX9J2oGZ1"
   },
   "source": [
    "### Q2\n",
    "\n",
    "Altere o programa anterior para a partir dos valores de horas trabalhadas por semana e salário por hora, calcular **em somente duas instruções**:\n",
    "- Salário semanal bruto\n",
    "- Salário semanal líquido com todos os descontos. Para a segunda instrução, realize todos os cálculos aritméticos em uma expressão composta.\n"
   ]
  },
  {
   "cell_type": "code",
   "execution_count": null,
   "metadata": {
    "id": "pAHw9Xf9oGoi"
   },
   "outputs": [],
   "source": [
    "## Escreva e execute seu código aqui\n",
    "# Definição das variáveis\n",
    "salario_por_hora = 20.00  # Valor do salário por hora em reais\n",
    "horas_trabalhadas_semana = 40  # Número de horas trabalhadas na semana\n",
    "\n",
    "# Cálculo do salário semanal bruto\n",
    "salario_bruto_semanal = salario_por_hora * horas_trabalhadas_semana\n",
    "\n",
    "# Cálculo do salário semanal líquido em uma única expressão composta\n",
    "salario_liquido_semanal = salario_bruto_semanal * (1 - 0.10 - 0.05)\n",
    "\n",
    "# Impressão dos resultados\n",
    "print(\"Salário semanal bruto: R$\", salario_bruto_semanal)\n",
    "print(\"Salário semanal líquido: R$\", salario_liquido_semanal)"
   ]
  },
  {
   "cell_type": "markdown",
   "metadata": {
    "id": "m8tlHRuWpBOB"
   },
   "source": [
    "### Q3\n",
    "\n",
    "Você está desenvolvendo um software de conversão de moeda e precisa calcular o valor equivalente em yuan chinês a partir de uma quantia em real. A taxa de câmbio é de 0.69 BRL (real) para 1 CNY (yuan). Escreva um programa que define em uma variável uma quantia em reais (BRL) e calcula o valor equivalente em yuan (CNY). Imprima o resultado."
   ]
  },
  {
   "cell_type": "code",
   "execution_count": null,
   "metadata": {
    "id": "2bPw7uF6oeL9"
   },
   "outputs": [],
   "source": [
    "## Escreva e execute seu código aqui\n",
    "# Definição da variável de quantia em reais (BRL)\n",
    "quantia_em_reais = 200.00  # Exemplo: 200 reais\n",
    "\n",
    "# Taxa de câmbio\n",
    "taxa_cambio_brl_para_cny = 0.69  # 1 CNY = 0.69 BRL\n",
    "\n",
    "# Cálculo do valor equivalente em yuans (CNY)\n",
    "valor_em_yuan = quantia_em_reais / taxa_cambio_brl_para_cny\n",
    "\n",
    "# Impressão do resultado\n",
    "print(\"Quantia em reais (BRL): R$\", quantia_em_reais)\n",
    "print(\"Valor equivalente em yuans (CNY): ¥\", round(valor_em_yuan, 2))"
   ]
  },
  {
   "cell_type": "markdown",
   "metadata": {
    "id": "-Na3ltDCp74A"
   },
   "source": [
    "### Q4\n",
    "\n",
    "Você é um treinador de corrida e deseja calcular a velocidade média que um atleta precisa manter para completar a Maratona Internacional de São Silvestre, que tem uma distância total de 42.195 km. A fórmula para calcular a velocidade média ($v\\_media$) é dada por $v\\_media = \\frac{distancia}{tempo}$ . Escreva um programa em Python para calcular a velocidade média necessária para completar a maratona em 3 horas.\n",
    "\n",
    "**Calcule e imprima o resultado em metros/segundo**, ou seja, converta a distância de quilômetros para metros ($metro = \\frac{km}{1000}$) e a velocidade de horas para segundos $(segundo = \\frac{hora}{3600})$."
   ]
  },
  {
   "cell_type": "code",
   "execution_count": null,
   "metadata": {
    "id": "Bn6l8kcSrE4L"
   },
   "outputs": [],
   "source": [
    "## Escreva e execute seu código aqui\n",
    "# Definição das variáveis\n",
    "distancia_km = 42.195  # Distância da maratona em quilômetros\n",
    "tempo_horas = 3  # Tempo para completar a maratona em horas\n",
    "\n",
    "# Conversão da distância para metros\n",
    "distancia_metros = distancia_km * 1000  # 1 km = 1000 metros\n",
    "\n",
    "# Conversão do tempo para segundos\n",
    "tempo_segundos = tempo_horas * 3600  # 1 hora = 3600 segundos\n",
    "\n",
    "# Cálculo da velocidade média em metros por segundo\n",
    "velocidade_media_m_s = distancia_metros / tempo_segundos\n",
    "\n",
    "# Impressão do resultado\n",
    "print(\"Velocidade média necessária: {:.2f} m/s\".format(velocidade_media_m_s))"
   ]
  }
 ],
 "metadata": {
  "colab": {
   "provenance": []
  },
  "kernelspec": {
   "display_name": "Python 3 (ipykernel)",
   "language": "python",
   "name": "python3"
  },
  "language_info": {
   "codemirror_mode": {
    "name": "ipython",
    "version": 3
   },
   "file_extension": ".py",
   "mimetype": "text/x-python",
   "name": "python",
   "nbconvert_exporter": "python",
   "pygments_lexer": "ipython3",
   "version": "3.11.7"
  }
 },
 "nbformat": 4,
 "nbformat_minor": 4
}
