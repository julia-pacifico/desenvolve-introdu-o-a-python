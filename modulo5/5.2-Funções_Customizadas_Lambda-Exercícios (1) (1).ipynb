{
 "cells": [
  {
   "cell_type": "markdown",
   "id": "cbdff5a5",
   "metadata": {},
   "source": [
    "# Módulo 5 - Funções\n",
    "\n",
    "## Aulas 5.2 - Funções Customizadas e 5.4 Funções ```lambda```"
   ]
  },
  {
   "cell_type": "markdown",
   "id": "28a3fee2",
   "metadata": {},
   "source": [
    "### Q1.\n",
    "\n",
    "- Sabendo que o código a seguir calcula o fatorial de n, escreva uma função chamada ```fatorial()``` que recebe um inteiro ```n``` como parâmetro e retorna o resultado do fatorial de ```n```. \n",
    "- No programa principal, peça ao usuário o valor de ```n```, chame a sua função e imprima o retorno.\n",
    "\n",
    "```python\n",
    "fat = 1\n",
    "for i in range(1, n+1):\n",
    "    fat *= i \n",
    "```"
   ]
  },
  {
   "cell_type": "code",
   "execution_count": 25,
   "id": "d126b3a5",
   "metadata": {},
   "outputs": [],
   "source": [
    "## Crie aqui a função fatorial()\n",
    "def fatorial(n):\n",
    "    fat = 1\n",
    "    for i in range(1, n + 1):\n",
    "        fat *= i\n",
    "    return fat \n",
    "## lembre-se de executar a célula para que \n",
    "## a função passe a existir e possa ser chamada\n"
   ]
  },
  {
   "cell_type": "code",
   "execution_count": 35,
   "id": "6e4fe64e",
   "metadata": {},
   "outputs": [
    {
     "name": "stdin",
     "output_type": "stream",
     "text": [
      "Digite o valor de n:  5\n"
     ]
    },
    {
     "name": "stdout",
     "output_type": "stream",
     "text": [
      "O fatorial de 5 é 120\n"
     ]
    }
   ],
   "source": [
    "## Escreva aqui o programa principal e execute a célula\n",
    "fat = 1\n",
    "for i in range(1, n + 1):\n",
    "    fat *= i\n",
    "n = int(input(\"Digite o valor de n: \"))\n",
    "resultado = fatorial(n)\n",
    "print(f\"O fatorial de {n} é {resultado}\")"
   ]
  },
  {
   "cell_type": "markdown",
   "id": "c0a1f599",
   "metadata": {},
   "source": [
    "### Q2.\n",
    "\n",
    "- Escreva uma função em Python chamada ```soma_quadrados``` que recebe dois números como parâmetros e retorna a soma dos seus quadrados. \n",
    "- No programa principal solicite ao usuário que insira dois números e utilize a função para exibir a soma dos quadrados."
   ]
  },
  {
   "cell_type": "code",
   "execution_count": null,
   "id": "6dbddaad",
   "metadata": {},
   "outputs": [],
   "source": [
    "## Crie aqui a função soma_quadrados()\n",
    "soma_quadrados(a, b):\n",
    "    return a**2 + b**2"
   ]
  },
  {
   "cell_type": "code",
   "execution_count": 41,
   "id": "9175a7da",
   "metadata": {},
   "outputs": [
    {
     "name": "stdin",
     "output_type": "stream",
     "text": [
      "Digite o primeiro número:  3\n",
      "Digite o segundo número:  4\n"
     ]
    },
    {
     "name": "stdout",
     "output_type": "stream",
     "text": [
      "A soma dos quadrados de 3 e 4 é 25\n"
     ]
    }
   ],
   "source": [
    "## Escreva aqui o programa principal e execute a célula\n",
    "def soma_quadrados(a, b):\n",
    "    return a**2 + b**2\n",
    "a = int(input(\"Digite o primeiro número: \"))\n",
    "b = int(input(\"Digite o segundo número: \"))\n",
    "resultado = soma_quadrados(a, b)\n",
    "print(f\"A soma dos quadrados de {a} e {b} é {resultado}\")"
   ]
  },
  {
   "cell_type": "markdown",
   "id": "6ba34ce0",
   "metadata": {},
   "source": [
    "### Q3.\n",
    "\n",
    "- Crie uma função em Python chamada ```soma_digitos``` que recebe um número inteiro como parâmetro e retorna a soma dos seus dígitos. Por exemplo, para o número 123, a função deve retornar 6, $(1 + 2 + 3)$.\n",
    "    - O desafio aqui é separar os dígitos de um número inteiro usando operações aritméticas <br> <br>\n",
    "\n",
    "- No programa principal solicite ao usuário que insira um número e utilize a função ```soma_digitos``` para calcular e exibir a soma dos seus dígitos."
   ]
  },
  {
   "cell_type": "code",
   "execution_count": null,
   "id": "34838ebf",
   "metadata": {},
   "outputs": [],
   "source": [
    "## Crie aqui a função soma_digitos()\n",
    "def soma_digitos(n):\n",
    "    soma = 0\n",
    "    while n > 0:\n",
    "        soma += n % 10\n",
    "        n //= 10\n",
    "    return soma"
   ]
  },
  {
   "cell_type": "code",
   "execution_count": 43,
   "id": "27c35b21",
   "metadata": {},
   "outputs": [
    {
     "name": "stdin",
     "output_type": "stream",
     "text": [
      "Digite um número:  4\n"
     ]
    },
    {
     "name": "stdout",
     "output_type": "stream",
     "text": [
      "A soma dos dígitos de 4 é 4\n"
     ]
    }
   ],
   "source": [
    "## Escreva aqui o programa principal e execute a célula\n",
    "def soma_digitos(n):\n",
    "    soma = 0\n",
    "    while n > 0:\n",
    "        soma += n % 10\n",
    "        n //= 10\n",
    "    return soma\n",
    "n = int(input(\"Digite um número: \"))\n",
    "resultado = soma_digitos(n)\n",
    "print(f\"A soma dos dígitos de {n} é {resultado}\")"
   ]
  },
  {
   "cell_type": "markdown",
   "id": "c318b159",
   "metadata": {},
   "source": [
    "### Q4.\n",
    "\n",
    "- Crie a função ```inverteValor()``` que recebe um inteiro de qualquer tamanho e retorna esse valor invertido usando apenas operações aritméticas\n",
    "- Crie a função ```verificaInverso()``` que recebe o valor original e o valor invertido e retorna verdadeiro se ambos forem igualmente par ou igualmente ímpar. Retorne falso caso contrário.\n",
    "- No programa principal, peça um valor do usuário e imprima o retorno de ambas as funções.\n"
   ]
  },
  {
   "cell_type": "code",
   "execution_count": null,
   "id": "e4e47d1d",
   "metadata": {},
   "outputs": [],
   "source": [
    "## Crie aqui as funções inverteValor() e verificaInverso()\n",
    "def inverteValor(n):\n",
    "    invertido = 0\n",
    "    while n > 0:\n",
    "        invertido = invertido * 10 + n % 10\n",
    "        n //= 10\n",
    "    return invertido\n",
    "def verificaInverso(original, invertido):\n",
    "    return (original % 2 == invertido % 2)\n",
    "   "
   ]
  },
  {
   "cell_type": "code",
   "execution_count": null,
   "id": "a9514e56",
   "metadata": {},
   "outputs": [],
   "source": [
    "## Escreva aqui o programa principal e execute a célula\n",
    "def inverteValor(n):\n",
    "    invertido = 0\n",
    "    while n > 0:\n",
    "        invertido = invertido * 10 + n % 10\n",
    "        n //= 10\n",
    "    return invertido\n",
    "def verificaInverso(original, invertido):\n",
    "    return (original % 2 == invertido % 2)\n",
    "   \n",
    "n = int(input(\"Digite um número: \"))\n",
    "invertido = inverteValor(n)\n",
    "print(f\"O valor invertido de {n} é {invertido}\")\n",
    "if verificaInverso(n, invertido):\n",
    "    print(\"O valor original e o invertido são ambos pares ou ambos ímpares.\")\n",
    "else:\n",
    "    print(\"O valor original e o invertido têm paridade diferente.\")\n"
   ]
  },
  {
   "cell_type": "markdown",
   "id": "329be966",
   "metadata": {},
   "source": [
    "### Q5.\n",
    "\n",
    "Você está desenvolvendo um programa para auxiliar em cálculos de geometria básica. Crie as seguintes funções:\n",
    "- A função ```calcula_perimetro_triangulo()``` que recebe três inteiros correspondentes aos lados de um triângulo e retorna o perímetro do triângulo, ou seja, a soma dos seus lados.\n",
    "- A função ```calcula_perimetro_circulo()``` que recebe um inteiro referente ao raio do círculo e retorna o perímetro do círculo, dado por $2 \\pi r$. Use a constante $\\pi$ da biblioteca ```math```.\n",
    "- A função ```calcula_perimetro_retangulo()``` que possui um parâmetro obrigatório ```lado1``` e um opcional ```lado2```, ambos inteiros. Se o valor opcional não for fornecido, significa que se trata de um quadrado. Sua função deve calcular e retornar o perímetro do retângulo, ou seja, a soma de seus lados. \n",
    "    - Para o quadrado, é dado por $4 \\times lado1$\n",
    "    - Para o retângulo é dado por $2 \\times lado1 + 2 \\times lado2$\n",
    "    \n",
    "- No programa principal apresente um menu com as opções disponíveis do seu sistema e uma quarta opção ```Sair```. Solicite ao usuário a opção desejada, solicite as entradas correspondentes à opção escolhida, invoque a respective função e apresente o seu retorno. Seu programa deve retornar ao menu até que o usuário escolha a opção ```Sair```\n",
    "\n",
    "Exemplo de interação:\n",
    "```\n",
    "1 - Calcular perímetro triângulo\n",
    "2 - Calcular perímetro círculo\n",
    "3 - Calcular perímetro retângulo\n",
    "4 - Sair\n",
    "\n",
    "Opção: 1\n",
    "Digite os três lados do triângulo:\n",
    "3\n",
    "4\n",
    "5\n",
    "O perímetro é: 12\n",
    "\n",
    "1 - Calcular perímetro triângulo\n",
    "2 - Calcular perímetro círculo\n",
    "3 - Calcular perímetro retângulo\n",
    "4 - Sair\n",
    "\n",
    "Opção: 3\n",
    "Informe os dois lados do retângulo. Se for um quadrado, digite 0 para o segundo valor:\n",
    "5\n",
    "0\n",
    "O perímetro é: 20\n",
    "\n",
    "1 - Calcular perímetro triângulo\n",
    "2 - Calcular perímetro círculo\n",
    "3 - Calcular perímetro retângulo\n",
    "4 - Sair\n",
    "\n",
    "Opção: 4\n",
    "```"
   ]
  },
  {
   "cell_type": "code",
   "execution_count": null,
   "id": "0793d328",
   "metadata": {},
   "outputs": [],
   "source": [
    "## Crie aqui as funções \n",
    "# triangulo\n",
    "def triangulo(lado1, lado2, lado3):\n",
    "    return lado1 + lado2 + lado3\n",
    "#circulo\n",
    "def circulo(raio):\n",
    "    return 2 * math.pi * raio\n",
    "#retangulo\n",
    "def retangulo(lado1, lado2=0):\n",
    "    if lado2 == 0:\n",
    "        lado2 = lado1\n",
    "    return 2 * (lado1 + lado2)\n"
   ]
  },
  {
   "cell_type": "code",
   "execution_count": null,
   "id": "36269c71",
   "metadata": {},
   "outputs": [],
   "source": [
    "## Escreva aqui o programa principal \n",
    "import math\n",
    "\n",
    "#triangulo\n",
    "def triangulo(lado1, lado2, lado3):\n",
    "    return lado1 + lado2 + lado3\n",
    "\n",
    "# circulo\n",
    "def circulo(raio):\n",
    "    return 2 * math.pi * raio\n",
    "\n",
    "#retangulo\n",
    "def retangulo(lado1, lado2=0):\n",
    "    if lado2 == 0:\n",
    "        lado2 = lado1\n",
    "    return 2 * (lado1 + lado2)\n",
    "\n",
    "while True:\n",
    "    print(\"1 - Calcular perímetro triângulo\")\n",
    "    print(\"2 - Calcular perímetro círculo\")\n",
    "    print(\"3 - Calcular perímetro retângulo\")\n",
    "    print(\"4 - Sair\")\n",
    "    opcao = int(input(\"Opção: \"))\n",
    "\n",
    "    if opcao == 1:\n",
    "        lado1 = int(input(\"Digite o primeiro lado do triângulo: \"))\n",
    "        lado2 = int(input(\"Digite o segundo lado do triângulo: \"))\n",
    "        lado3 = int(input(\"Digite o terceiro lado do triângulo: \"))\n",
    "        resultado = calcula_perimetro_triangulo(lado1, lado2, lado3)\n",
    "        print(f\"O perímetro do triângulo é: {resultado}\")\n",
    "\n",
    "    elif opcao == 2:\n",
    "        raio = int(input(\"Digite o raio do círculo: \"))\n",
    "        resultado = calcula_perimetro_circulo(raio)\n",
    "        print(f\"O perímetro do círculo é: {resultado}\")\n",
    "\n",
    "    elif opcao == 3:\n",
    "        lado1 = int(input(\"Digite o primeiro lado do retângulo: \"))\n",
    "        lado2 = int(input(\"Digite o segundo lado do retângulo (digite 0 se for um quadrado): \"))\n",
    "        resultado = calcula_perimetro_retangulo(lado1, lado2)\n",
    "        print(f\"O perímetro é: {resultado}\")\n",
    "\n",
    "    elif opcao == 4:\n",
    "        break\n",
    "\n",
    "    else:\n",
    "        print(\"Opção inválida. Tente novamente.\")"
   ]
  },
  {
   "cell_type": "markdown",
   "id": "3016bcc7",
   "metadata": {},
   "source": [
    "## Funções ```lambda```"
   ]
  },
  {
   "cell_type": "markdown",
   "id": "f9cdb8dd",
   "metadata": {},
   "source": [
    "### Q6.\n",
    "\n",
    "Crie uma função lambda para verificar se um número é par ou ímpar. Em seguida, solicite ao usuário um número indefinidos de valores (até que o usuário digite 0). Para cada valor de entrada, informe se é par ou ímpar.\n",
    "\n",
    "Exemplo de interação:\n",
    "```\n",
    "Digite os valores que deseja verificar a paridade (digite 0 para finalizar a entrada de dados):\n",
    "3\n",
    "ímpar\n",
    "8\n",
    "par\n",
    "12\n",
    "par\n",
    "5\n",
    "ímpar\n",
    "7ímpar\n",
    "```"
   ]
  },
  {
   "cell_type": "code",
   "execution_count": null,
   "id": "e3c31a78",
   "metadata": {},
   "outputs": [],
   "source": [
    "par_ou_impar = lambda x: \"par\" if x % 2 == 0 else \"ímpar\"\n",
    "\n",
    "# Programa principal\n",
    "print(\"Digite os valores que deseja verificar a paridade (digite 0 para finalizar a entrada de dados):\")\n",
    "while True:\n",
    "    valor = int(input())\n",
    "    if valor == 0:\n",
    "        break\n",
    "    print(par_ou_impar(valor))"
   ]
  },
  {
   "cell_type": "markdown",
   "id": "5a87474d",
   "metadata": {},
   "source": [
    "### Q7.\n",
    "\n",
    "Escreva um programa que pergunte ao usuário qual operação ele deseja: maior ou menor.\n",
    "Em seguida leia uma quantidade indefinida de valores do usuário, até que o usuário digite o valor zero.\n",
    "Apresente ao final o maior ou menor dos valores digitados de acordo com a escolha do usuário.\n",
    "\n",
    "**Sua solução deve incluir pelo menos uma função ```lambda```** \n",
    "\n",
    "Exemplo de interação:\n",
    "```\n",
    "Opções: (1) maior ou (2) menor?\n",
    "Opção: 1\n",
    "\n",
    "Digite os valores de entrada. Digite 0 para finalizar a entrada de valores.\n",
    "4\n",
    "12\n",
    "15\n",
    "1\n",
    "0\n",
    "\n",
    "O maior valor é: 15\n",
    "```"
   ]
  },
  {
   "cell_type": "code",
   "execution_count": null,
   "id": "ee3f68ca",
   "metadata": {},
   "outputs": [],
   "source": [
    "## Escreva aqui o programa principal \n",
    "opcao = int(input(\"Opções: (1) maior ou (2) menor?\\nOpção: \"))\n",
    "if opcao == 1:\n",
    "    comparar = lambda x, y: x if x > y else y\n",
    "    texto = \"maior\"\n",
    "elif opcao == 2:\n",
    "    comparar = lambda x, y: x if x < y else y\n",
    "    texto = \"menor\"\n",
    "else:\n",
    "    print(\"Opção inválida.\")\n",
    "    exit()\n",
    "\n",
    "valores = []\n",
    "print(\"Digite os valores de entrada. Digite 0 para finalizar a entrada de valores.\")\n",
    "while True:\n",
    "    valor = int(input())\n",
    "    if valor == 0:\n",
    "        break\n",
    "    valores.append(valor)\n",
    "\n",
    "if valores:\n",
    "    resultado = valores[0]\n",
    "    for valor in valores[1:]:\n",
    "        resultado = comparar(resultado, valor)\n",
    "    print(f\"O {texto} valor é: {resultado}\")\n",
    "else:\n",
    "    print(\"Nenhum valor foi inserido.\")"
   ]
  },
  {
   "cell_type": "code",
   "execution_count": null,
   "id": "eb7eff4a-655a-46a7-a4f9-7c7cf6d00819",
   "metadata": {},
   "outputs": [],
   "source": [
    "\n"
   ]
  },
  {
   "cell_type": "code",
   "execution_count": null,
   "id": "815b64e5-a027-496d-8870-d8d7ef204312",
   "metadata": {},
   "outputs": [],
   "source": []
  },
  {
   "cell_type": "code",
   "execution_count": null,
   "id": "8dbb4337-f20a-4c54-8a5f-35c46211c5fa",
   "metadata": {},
   "outputs": [],
   "source": []
  }
 ],
 "metadata": {
  "kernelspec": {
   "display_name": "anaconda-panel-2023.05-py310",
   "language": "python",
   "name": "conda-env-anaconda-panel-2023.05-py310-py"
  },
  "language_info": {
   "codemirror_mode": {
    "name": "ipython",
    "version": 3
   },
   "file_extension": ".py",
   "mimetype": "text/x-python",
   "name": "python",
   "nbconvert_exporter": "python",
   "pygments_lexer": "ipython3",
   "version": "3.11.5"
  }
 },
 "nbformat": 4,
 "nbformat_minor": 5
}
